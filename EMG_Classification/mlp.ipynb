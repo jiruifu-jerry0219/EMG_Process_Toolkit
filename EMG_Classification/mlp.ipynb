{
 "cells": [
  {
   "cell_type": "code",
   "execution_count": 1,
   "id": "abc9158d",
   "metadata": {},
   "outputs": [],
   "source": [
    "import numpy as np\n",
    "import pandas as pd\n",
    "import seaborn as sns\n",
    "import matplotlib.pyplot as plt\n",
    "import itertools\n",
    "import imutils\n",
    "import ipywidgets\n",
    "\n",
    "from tqdm.notebook import tqdm\n",
    "import torch\n",
    "import torch.nn as nn\n",
    "import torch.optim as optim\n",
    "from torch.utils.data import Dataset, DataLoader, WeightedRandomSampler\n",
    "\n",
    "from sklearn.preprocessing import MinMaxScaler    \n",
    "from sklearn.model_selection import train_test_split\n",
    "from sklearn.metrics import confusion_matrix, classification_report\n",
    "\n",
    "import matplotlib.pyplot as plt\n",
    "import chart_studio.plotly  as py\n",
    "from chart_studio.plotly import iplot\n",
    "import plotly.graph_objs as go\n",
    "from plotly.offline import init_notebook_mode, iplot\n",
    "from plotly import tools\n",
    "from PIL import Image\n",
    "from sklearn.preprocessing import OneHotEncoder\n",
    "from sklearn.metrics import classification_report, confusion_matrix\n",
    "import random\n"
   ]
  },
  {
   "cell_type": "code",
   "execution_count": 44,
   "id": "cb2a2606",
   "metadata": {},
   "outputs": [],
   "source": [
    "def plot_confusion_matrix(cm, classes,\n",
    "                          normalize=False,\n",
    "                          title='Confusion matrix',\n",
    "                          cmap=plt.cm.Blues):\n",
    "\n",
    "    plt.figure(figsize = (6,6))\n",
    "    plt.imshow(cm, interpolation='nearest', cmap=cmap)\n",
    "    plt.title(title)\n",
    "    plt.colorbar()\n",
    "    tick_marks = np.arange(len(classes))\n",
    "    plt.xticks(tick_marks, classes, rotation=90)\n",
    "    plt.yticks(tick_marks, classes)\n",
    "    if normalize:\n",
    "        cm = cm.astype('float') / cm.sum(axis=1)[:, np.newaxis]\n",
    "\n",
    "    thresh = cm.max() / 2.\n",
    "    cm = np.round(cm,2)\n",
    "    for i, j in itertools.product(range(cm.shape[0]), range(cm.shape[1])):\n",
    "        plt.text(j, i, cm[i, j],\n",
    "                 horizontalalignment=\"center\",\n",
    "                 color=\"white\" if cm[i, j] > thresh else \"black\")\n",
    "    plt.tight_layout()\n",
    "    plt.ylabel('True label')\n",
    "    plt.xlabel('Predicted label')\n",
    "    plt.show()\n",
    "    "
   ]
  },
  {
   "cell_type": "code",
   "execution_count": 45,
   "id": "a8ff6a8d",
   "metadata": {},
   "outputs": [
    {
     "data": {
      "text/html": [
       "<div>\n",
       "<style scoped>\n",
       "    .dataframe tbody tr th:only-of-type {\n",
       "        vertical-align: middle;\n",
       "    }\n",
       "\n",
       "    .dataframe tbody tr th {\n",
       "        vertical-align: top;\n",
       "    }\n",
       "\n",
       "    .dataframe thead th {\n",
       "        text-align: right;\n",
       "    }\n",
       "</style>\n",
       "<table border=\"1\" class=\"dataframe\">\n",
       "  <thead>\n",
       "    <tr style=\"text-align: right;\">\n",
       "      <th></th>\n",
       "      <th>ch1</th>\n",
       "      <th>ch2</th>\n",
       "      <th>ch3</th>\n",
       "      <th>ch4</th>\n",
       "      <th>ch5</th>\n",
       "      <th>ch6</th>\n",
       "      <th>ch7</th>\n",
       "      <th>ch8</th>\n",
       "      <th>ch9</th>\n",
       "      <th>ch10</th>\n",
       "      <th>ch11</th>\n",
       "      <th>ch12</th>\n",
       "      <th>ch13</th>\n",
       "      <th>ch14</th>\n",
       "      <th>ch15</th>\n",
       "      <th>label</th>\n",
       "    </tr>\n",
       "  </thead>\n",
       "  <tbody>\n",
       "    <tr>\n",
       "      <th>0</th>\n",
       "      <td>-0.084833</td>\n",
       "      <td>0.336391</td>\n",
       "      <td>0.727666</td>\n",
       "      <td>0.284861</td>\n",
       "      <td>0.157216</td>\n",
       "      <td>0.150551</td>\n",
       "      <td>0.299531</td>\n",
       "      <td>0.145583</td>\n",
       "      <td>-0.026877</td>\n",
       "      <td>0.055283</td>\n",
       "      <td>0.000155</td>\n",
       "      <td>-0.111373</td>\n",
       "      <td>0.082754</td>\n",
       "      <td>0.028478</td>\n",
       "      <td>-0.023124</td>\n",
       "      <td>5.5</td>\n",
       "    </tr>\n",
       "    <tr>\n",
       "      <th>1</th>\n",
       "      <td>-0.046846</td>\n",
       "      <td>0.289916</td>\n",
       "      <td>0.538304</td>\n",
       "      <td>0.174659</td>\n",
       "      <td>0.194968</td>\n",
       "      <td>0.062330</td>\n",
       "      <td>0.227172</td>\n",
       "      <td>0.090609</td>\n",
       "      <td>0.020410</td>\n",
       "      <td>0.020337</td>\n",
       "      <td>-0.002328</td>\n",
       "      <td>-0.095761</td>\n",
       "      <td>0.071228</td>\n",
       "      <td>0.015774</td>\n",
       "      <td>-0.012425</td>\n",
       "      <td>5.5</td>\n",
       "    </tr>\n",
       "    <tr>\n",
       "      <th>2</th>\n",
       "      <td>-0.047517</td>\n",
       "      <td>0.263150</td>\n",
       "      <td>0.574644</td>\n",
       "      <td>0.187919</td>\n",
       "      <td>0.198232</td>\n",
       "      <td>0.091427</td>\n",
       "      <td>0.166249</td>\n",
       "      <td>0.101292</td>\n",
       "      <td>0.029889</td>\n",
       "      <td>0.016017</td>\n",
       "      <td>-0.003360</td>\n",
       "      <td>-0.094898</td>\n",
       "      <td>0.071989</td>\n",
       "      <td>0.014139</td>\n",
       "      <td>-0.015784</td>\n",
       "      <td>5.5</td>\n",
       "    </tr>\n",
       "    <tr>\n",
       "      <th>3</th>\n",
       "      <td>-0.043622</td>\n",
       "      <td>0.259777</td>\n",
       "      <td>0.472857</td>\n",
       "      <td>0.145080</td>\n",
       "      <td>0.184822</td>\n",
       "      <td>0.000898</td>\n",
       "      <td>0.089452</td>\n",
       "      <td>0.083603</td>\n",
       "      <td>0.053789</td>\n",
       "      <td>-0.008042</td>\n",
       "      <td>-0.007052</td>\n",
       "      <td>-0.088583</td>\n",
       "      <td>0.062830</td>\n",
       "      <td>0.009523</td>\n",
       "      <td>-0.006107</td>\n",
       "      <td>5.5</td>\n",
       "    </tr>\n",
       "    <tr>\n",
       "      <th>4</th>\n",
       "      <td>-0.052821</td>\n",
       "      <td>0.249013</td>\n",
       "      <td>0.505147</td>\n",
       "      <td>0.149475</td>\n",
       "      <td>0.212153</td>\n",
       "      <td>0.056851</td>\n",
       "      <td>0.121410</td>\n",
       "      <td>0.111416</td>\n",
       "      <td>0.107618</td>\n",
       "      <td>-0.001524</td>\n",
       "      <td>-0.003577</td>\n",
       "      <td>-0.089234</td>\n",
       "      <td>0.066249</td>\n",
       "      <td>0.011462</td>\n",
       "      <td>-0.010132</td>\n",
       "      <td>5.5</td>\n",
       "    </tr>\n",
       "  </tbody>\n",
       "</table>\n",
       "</div>"
      ],
      "text/plain": [
       "        ch1       ch2       ch3       ch4       ch5       ch6       ch7  \\\n",
       "0 -0.084833  0.336391  0.727666  0.284861  0.157216  0.150551  0.299531   \n",
       "1 -0.046846  0.289916  0.538304  0.174659  0.194968  0.062330  0.227172   \n",
       "2 -0.047517  0.263150  0.574644  0.187919  0.198232  0.091427  0.166249   \n",
       "3 -0.043622  0.259777  0.472857  0.145080  0.184822  0.000898  0.089452   \n",
       "4 -0.052821  0.249013  0.505147  0.149475  0.212153  0.056851  0.121410   \n",
       "\n",
       "        ch8       ch9      ch10      ch11      ch12      ch13      ch14  \\\n",
       "0  0.145583 -0.026877  0.055283  0.000155 -0.111373  0.082754  0.028478   \n",
       "1  0.090609  0.020410  0.020337 -0.002328 -0.095761  0.071228  0.015774   \n",
       "2  0.101292  0.029889  0.016017 -0.003360 -0.094898  0.071989  0.014139   \n",
       "3  0.083603  0.053789 -0.008042 -0.007052 -0.088583  0.062830  0.009523   \n",
       "4  0.111416  0.107618 -0.001524 -0.003577 -0.089234  0.066249  0.011462   \n",
       "\n",
       "       ch15  label  \n",
       "0 -0.023124    5.5  \n",
       "1 -0.012425    5.5  \n",
       "2 -0.015784    5.5  \n",
       "3 -0.006107    5.5  \n",
       "4 -0.010132    5.5  "
      ]
     },
     "execution_count": 45,
     "metadata": {},
     "output_type": "execute_result"
    }
   ],
   "source": [
    "df = pd.read_csv(\"data.csv\")\n",
    "df.head()"
   ]
  },
  {
   "cell_type": "code",
   "execution_count": 46,
   "id": "28469ce1",
   "metadata": {},
   "outputs": [
    {
     "data": {
      "text/plain": [
       "<AxesSubplot:xlabel='label', ylabel='count'>"
      ]
     },
     "execution_count": 46,
     "metadata": {},
     "output_type": "execute_result"
    },
    {
     "data": {
      "image/png": "[encoded data removed]",
      "text/plain": [
       "<Figure size 432x288 with 1 Axes>"
      ]
     },
     "metadata": {
      "needs_background": "light"
     },
     "output_type": "display_data"
    }
   ],
   "source": [
    "# Visualize the imblance in the dataset\n",
    "sns.countplot(x = 'label', data=df)"
   ]
  },
  {
   "cell_type": "code",
   "execution_count": 47,
   "id": "ab204652",
   "metadata": {},
   "outputs": [],
   "source": [
    "#decode the label to numerical value\n",
    "df['label'] = df['label'].astype('category')\n",
    "class2idx = {\n",
    "    5.5: 0,\n",
    "    8.88: 1,\n",
    "    11.1: 2,\n",
    "}\n",
    "\n",
    "\n",
    "idx2class = {v: k for k, v in class2idx.items()}\n",
    "\n",
    "\n",
    "df['label'].replace(class2idx, inplace=True)"
   ]
  },
  {
   "cell_type": "code",
   "execution_count": 48,
   "id": "89d83bc6",
   "metadata": {},
   "outputs": [],
   "source": [
    "X = df.iloc[:, 0:-1]\n",
    "y = df.iloc[:, -1]"
   ]
  },
  {
   "cell_type": "code",
   "execution_count": 49,
   "id": "b981cf9f",
   "metadata": {},
   "outputs": [],
   "source": [
    "X_trainval, X_test, y_trainval, y_test = train_test_split(X, y, test_size=0.2, random_state=42)\n",
    "\n",
    "X_train, X_val, y_train, y_val = train_test_split(X_trainval, y_trainval, test_size=0.1,  random_state=21)"
   ]
  },
  {
   "cell_type": "code",
   "execution_count": 50,
   "id": "991bca98",
   "metadata": {},
   "outputs": [],
   "source": [
    "scaler = MinMaxScaler()\n",
    "X_train = scaler.fit_transform(X_train)\n",
    "X_val = scaler.transform(X_val)\n",
    "X_test = scaler.transform(X_test)\n",
    "X_train, y_train = np.array(X_train), np.array(y_train)\n",
    "X_val, y_val = np.array(X_val), np.array(y_val)\n",
    "X_test, y_test = np.array(X_test), np.array(y_test)"
   ]
  },
  {
   "cell_type": "code",
   "execution_count": 51,
   "id": "2d40737b",
   "metadata": {},
   "outputs": [],
   "source": [
    "def get_class_distribution(obj):\n",
    "    count_dict = {\n",
    "        \"5.55\": 0,\n",
    "        \"8.88\": 0,\n",
    "        \"11.1\": 0\n",
    "    }\n",
    "    \n",
    "    for i in obj:\n",
    "#         print(i)\n",
    "        if i == 0: \n",
    "            count_dict['5.55'] += 1\n",
    "        elif i == 1: \n",
    "            count_dict['8.88'] += 1\n",
    "        elif i == 2: \n",
    "            count_dict['11.1'] += 1         \n",
    "#         else:\n",
    "#             print(\"Check classes.\")\n",
    "            \n",
    "    return count_dict"
   ]
  },
  {
   "cell_type": "code",
   "execution_count": 52,
   "id": "7e16f11e",
   "metadata": {},
   "outputs": [
    {
     "data": {
      "text/plain": [
       "Text(0.5, 1.0, 'Class Distribution in Test Set')"
      ]
     },
     "execution_count": 52,
     "metadata": {},
     "output_type": "execute_result"
    },
    {
     "data": {
      "image/png": "[encoded data removed]",
      "text/plain": [
       "<Figure size 1800x504 with 3 Axes>"
      ]
     },
     "metadata": {
      "needs_background": "light"
     },
     "output_type": "display_data"
    }
   ],
   "source": [
    "fig, axes = plt.subplots(nrows=1, ncols=3, figsize=(25,7))\n",
    "# Train\n",
    "sns.barplot(data = pd.DataFrame.from_dict([get_class_distribution(y_train)]).melt(), x = \"variable\", y=\"value\", hue=\"variable\",  ax=axes[0]).set_title('Class Distribution in Train Set')\n",
    "# Validation\n",
    "sns.barplot(data = pd.DataFrame.from_dict([get_class_distribution(y_val)]).melt(), x = \"variable\", y=\"value\", hue=\"variable\",  ax=axes[1]).set_title('Class Distribution in Val Set')\n",
    "# Test\n",
    "sns.barplot(data = pd.DataFrame.from_dict([get_class_distribution(y_test)]).melt(), x = \"variable\", y=\"value\", hue=\"variable\",  ax=axes[2]).set_title('Class Distribution in Test Set')"
   ]
  },
  {
   "cell_type": "code",
   "execution_count": 85,
   "id": "acbb6a6f",
   "metadata": {},
   "outputs": [],
   "source": [
    "EPOCHS = 30\n",
    "BATCH_SIZE = 64\n",
    "LEARNING_RATE = 0.001"
   ]
  },
  {
   "cell_type": "code",
   "execution_count": 86,
   "id": "a4ba9c57",
   "metadata": {},
   "outputs": [],
   "source": [
    "class ClassifierDataset(Dataset):\n",
    "    \n",
    "    def __init__(self, X_data, y_data):\n",
    "        self.X_data = X_data\n",
    "        self.y_data = y_data\n",
    "        \n",
    "    def __getitem__(self, index):\n",
    "        return self.X_data[index], self.y_data[index]\n",
    "        \n",
    "    def __len__ (self):\n",
    "        return len(self.X_data)\n",
    "\n",
    "\n",
    "\n"
   ]
  },
  {
   "cell_type": "code",
   "execution_count": 87,
   "id": "40ff8157",
   "metadata": {},
   "outputs": [],
   "source": [
    "train_dataset = ClassifierDataset(torch.from_numpy(X_train).float(), torch.from_numpy(y_train).long())\n",
    "val_dataset = ClassifierDataset(torch.from_numpy(X_val).float(), torch.from_numpy(y_val).long())\n",
    "test_dataset = ClassifierDataset(torch.from_numpy(X_test).float(), torch.from_numpy(y_test).long())"
   ]
  },
  {
   "cell_type": "code",
   "execution_count": 88,
   "id": "d41b648a",
   "metadata": {},
   "outputs": [],
   "source": [
    "target_list = []\n",
    "for _, t in train_dataset:\n",
    "    target_list.append(t)\n",
    "    \n",
    "target_list = torch.tensor(target_list)\n",
    "target_list = target_list[torch.randperm(len(target_list))]"
   ]
  },
  {
   "cell_type": "code",
   "execution_count": 89,
   "id": "d4647486",
   "metadata": {},
   "outputs": [
    {
     "name": "stdout",
     "output_type": "stream",
     "text": [
      "tensor([0.0004, 0.0003, 0.0003])\n"
     ]
    }
   ],
   "source": [
    "class_count = [i for i in get_class_distribution(y_train).values()]\n",
    "class_weights = 1./torch.tensor(class_count, dtype=torch.float) \n",
    "print(class_weights)"
   ]
  },
  {
   "cell_type": "code",
   "execution_count": 90,
   "id": "a275fa44",
   "metadata": {},
   "outputs": [],
   "source": [
    "class_weights_all = class_weights[target_list]"
   ]
  },
  {
   "cell_type": "code",
   "execution_count": 91,
   "id": "acbec327",
   "metadata": {},
   "outputs": [],
   "source": [
    "weighted_sampler = WeightedRandomSampler(\n",
    "    weights=class_weights_all,\n",
    "    num_samples=len(class_weights_all),\n",
    "    replacement=True\n",
    ")"
   ]
  },
  {
   "cell_type": "code",
   "execution_count": 92,
   "id": "e1124ff5",
   "metadata": {},
   "outputs": [],
   "source": [
    "EPOCHS = 30\n",
    "BATCH_SIZE = 16\n",
    "LEARNING_RATE = 0.0007\n",
    "NUM_FEATURES = len(X.columns)\n",
    "NUM_CLASSES = 3"
   ]
  },
  {
   "cell_type": "code",
   "execution_count": 93,
   "id": "bf54c0e8",
   "metadata": {},
   "outputs": [
    {
     "name": "stdout",
     "output_type": "stream",
     "text": [
      "15\n"
     ]
    }
   ],
   "source": [
    "print(NUM_FEATURES)"
   ]
  },
  {
   "cell_type": "code",
   "execution_count": 94,
   "id": "7f8bb6ff",
   "metadata": {},
   "outputs": [],
   "source": [
    "train_loader = DataLoader(dataset=train_dataset,\n",
    "                          batch_size=BATCH_SIZE,\n",
    "                          sampler=weighted_sampler\n",
    ")\n",
    "val_loader = DataLoader(dataset=val_dataset, batch_size=1, drop_last=True)\n",
    "test_loader = DataLoader(dataset=test_dataset, batch_size=1, drop_last=True)"
   ]
  },
  {
   "cell_type": "code",
   "execution_count": 95,
   "id": "83866697",
   "metadata": {},
   "outputs": [],
   "source": [
    "class MulticlassClassification(nn.Module):\n",
    "    def __init__(self, num_feature, num_class):\n",
    "        super(MulticlassClassification, self).__init__()\n",
    "        \n",
    "        self.layer_1 = nn.Linear(num_feature, 512)\n",
    "        self.layer_2 = nn.Linear(512, 128)\n",
    "        self.layer_3 = nn.Linear(128, 64)\n",
    "        self.layer_out = nn.Linear(64, num_class) \n",
    "        \n",
    "        self.relu = nn.ReLU()\n",
    "        self.dropout = nn.Dropout(p=0.2)\n",
    "        \n",
    "    def forward(self, x):\n",
    "        x = self.layer_1(x)\n",
    "        x = self.relu(x)\n",
    "        \n",
    "        x = self.layer_2(x)\n",
    "        x = self.relu(x)\n",
    "        x = self.dropout(x)\n",
    "        \n",
    "        x = self.layer_3(x)\n",
    "        x = self.relu(x)\n",
    "        x = self.dropout(x)\n",
    "        \n",
    "        x = self.layer_out(x)\n",
    "        \n",
    "        return x"
   ]
  },
  {
   "cell_type": "code",
   "execution_count": 96,
   "id": "3adb80f5",
   "metadata": {},
   "outputs": [],
   "source": [
    "# class MulticlassClassification(nn.Module):\n",
    "#     def __init__(self, num_feature, num_class):\n",
    "#         super(MulticlassClassification, self).__init__()\n",
    "        \n",
    "#         self.layer_1 = nn.Linear(num_feature, 512)\n",
    "#         self.layer_2 = nn.Linear(512, 64)\n",
    "#         self.layer_out = nn.Linear(64, num_class) \n",
    "        \n",
    "#         self.relu = nn.ReLU()\n",
    "#         self.dropout = nn.Dropout(p=0.2)\n",
    "#         self.batchnorm1 = nn.BatchNorm1d(512)\n",
    "#         self.batchnorm2 = nn.BatchNorm1d(64)\n",
    "        \n",
    "#     def forward(self, x):\n",
    "#         x = self.layer_1(x)\n",
    "#         x = self.batchnorm1(x)\n",
    "#         x = self.relu(x)\n",
    "        \n",
    "#         x = self.layer_2(x)\n",
    "#         x = self.batchnorm2(x)\n",
    "#         x = self.relu(x)\n",
    "#         x = self.dropout(x)\n",
    "        \n",
    "        \n",
    "#         x = self.layer_out(x)\n",
    "        \n",
    "#         return x"
   ]
  },
  {
   "cell_type": "code",
   "execution_count": 97,
   "id": "a51120a9",
   "metadata": {},
   "outputs": [
    {
     "name": "stdout",
     "output_type": "stream",
     "text": [
      "cuda:0\n"
     ]
    }
   ],
   "source": [
    "device = torch.device(\"cuda:0\" if torch.cuda.is_available() else \"cpu\")\n",
    "print(device)\n"
   ]
  },
  {
   "cell_type": "code",
   "execution_count": 98,
   "id": "c35ba0e7",
   "metadata": {},
   "outputs": [
    {
     "name": "stdout",
     "output_type": "stream",
     "text": [
      "MulticlassClassification(\n",
      "  (layer_1): Linear(in_features=15, out_features=512, bias=True)\n",
      "  (layer_2): Linear(in_features=512, out_features=128, bias=True)\n",
      "  (layer_3): Linear(in_features=128, out_features=64, bias=True)\n",
      "  (layer_out): Linear(in_features=64, out_features=3, bias=True)\n",
      "  (relu): ReLU()\n",
      "  (dropout): Dropout(p=0.2, inplace=False)\n",
      ")\n"
     ]
    }
   ],
   "source": [
    "model = MulticlassClassification(num_feature = NUM_FEATURES, num_class=NUM_CLASSES)\n",
    "model.to(device)\n",
    "\n",
    "criterion = nn.CrossEntropyLoss(weight=class_weights.to(device))\n",
    "optimizer = optim.Adam(model.parameters(), lr=LEARNING_RATE)\n",
    "print(model)"
   ]
  },
  {
   "cell_type": "code",
   "execution_count": 99,
   "id": "b1d6aea7",
   "metadata": {},
   "outputs": [],
   "source": [
    "def multi_acc(y_pred, y_test):\n",
    "    y_pred_softmax = torch.log_softmax(y_pred, dim = 1)\n",
    "    _, y_pred_tags = torch.max(y_pred_softmax, dim = 1)    \n",
    "    \n",
    "    correct_pred = (y_pred_tags == y_test).float()\n",
    "    acc = correct_pred.sum() / len(correct_pred)\n",
    "    \n",
    "    acc = torch.round(acc * 100)\n",
    "    \n",
    "    return acc"
   ]
  },
  {
   "cell_type": "code",
   "execution_count": 100,
   "id": "20685a67",
   "metadata": {},
   "outputs": [],
   "source": [
    "accuracy_stats = {\n",
    "    'train': [],\n",
    "    \"val\": []\n",
    "}\n",
    "loss_stats = {\n",
    "    'train': [],\n",
    "    \"val\": []\n",
    "}"
   ]
  },
  {
   "cell_type": "code",
   "execution_count": 101,
   "id": "2eab0601",
   "metadata": {},
   "outputs": [
    {
     "name": "stdout",
     "output_type": "stream",
     "text": [
      "Begin training.\n",
      "Epoch 001: | Train Loss: 0.12740 | Val Loss: 0.01367 | Train Acc: 97.159| Val Acc: 99.588\n",
      "Epoch 002: | Train Loss: 0.00861 | Val Loss: 0.00376 | Train Acc: 99.824| Val Acc: 99.794\n",
      "Epoch 003: | Train Loss: 0.00440 | Val Loss: 0.00367 | Train Acc: 99.846| Val Acc: 99.794\n",
      "Epoch 004: | Train Loss: 0.00240 | Val Loss: 0.00197 | Train Acc: 99.945| Val Acc: 99.897\n",
      "Epoch 005: | Train Loss: 0.00639 | Val Loss: 0.00130 | Train Acc: 99.835| Val Acc: 100.000\n",
      "Epoch 006: | Train Loss: 0.00478 | Val Loss: 0.01038 | Train Acc: 99.868| Val Acc: 99.794\n",
      "Epoch 007: | Train Loss: 0.00125 | Val Loss: 0.00638 | Train Acc: 99.978| Val Acc: 99.794\n",
      "Epoch 008: | Train Loss: 0.00307 | Val Loss: 0.00520 | Train Acc: 99.912| Val Acc: 99.794\n",
      "Epoch 009: | Train Loss: 0.00148 | Val Loss: 0.00128 | Train Acc: 99.934| Val Acc: 99.897\n",
      "Epoch 010: | Train Loss: 0.00022 | Val Loss: 0.00464 | Train Acc: 100.000| Val Acc: 99.794\n",
      "Epoch 011: | Train Loss: 0.00119 | Val Loss: 0.00243 | Train Acc: 99.967| Val Acc: 99.897\n",
      "Epoch 012: | Train Loss: 0.00248 | Val Loss: 0.03960 | Train Acc: 99.934| Val Acc: 99.175\n",
      "Epoch 013: | Train Loss: 0.00112 | Val Loss: 0.00118 | Train Acc: 99.967| Val Acc: 99.897\n",
      "Epoch 014: | Train Loss: 0.00007 | Val Loss: 0.00220 | Train Acc: 100.000| Val Acc: 99.897\n",
      "Epoch 015: | Train Loss: 0.00010 | Val Loss: 0.00391 | Train Acc: 100.000| Val Acc: 99.897\n",
      "Epoch 016: | Train Loss: 0.00003 | Val Loss: 0.00446 | Train Acc: 100.000| Val Acc: 99.897\n",
      "Epoch 017: | Train Loss: 0.00002 | Val Loss: 0.00371 | Train Acc: 100.000| Val Acc: 99.897\n",
      "Epoch 018: | Train Loss: 0.00440 | Val Loss: 0.06972 | Train Acc: 99.890| Val Acc: 98.144\n",
      "Epoch 019: | Train Loss: 0.00381 | Val Loss: 0.00210 | Train Acc: 99.901| Val Acc: 99.897\n",
      "Epoch 020: | Train Loss: 0.00003 | Val Loss: 0.00132 | Train Acc: 100.000| Val Acc: 99.897\n",
      "Epoch 021: | Train Loss: 0.00004 | Val Loss: 0.00209 | Train Acc: 100.000| Val Acc: 99.897\n",
      "Epoch 022: | Train Loss: 0.00555 | Val Loss: 0.00145 | Train Acc: 99.877| Val Acc: 99.897\n",
      "Epoch 023: | Train Loss: 0.00016 | Val Loss: 0.00325 | Train Acc: 100.000| Val Acc: 99.794\n",
      "Epoch 024: | Train Loss: 0.00264 | Val Loss: 0.00195 | Train Acc: 99.934| Val Acc: 99.897\n",
      "Epoch 025: | Train Loss: 0.00008 | Val Loss: 0.00084 | Train Acc: 100.000| Val Acc: 100.000\n",
      "Epoch 026: | Train Loss: 0.00006 | Val Loss: 0.00177 | Train Acc: 100.000| Val Acc: 99.897\n",
      "Epoch 027: | Train Loss: 0.00001 | Val Loss: 0.00200 | Train Acc: 100.000| Val Acc: 99.897\n",
      "Epoch 028: | Train Loss: 0.00001 | Val Loss: 0.00170 | Train Acc: 100.000| Val Acc: 99.897\n",
      "Epoch 029: | Train Loss: 0.00001 | Val Loss: 0.00170 | Train Acc: 100.000| Val Acc: 99.897\n",
      "Epoch 030: | Train Loss: 0.00001 | Val Loss: 0.00257 | Train Acc: 100.000| Val Acc: 99.897\n"
     ]
    }
   ],
   "source": [
    "print(\"Begin training.\")\n",
    "\n",
    "for e in range(1, EPOCHS+1):\n",
    "    \n",
    "    # TRAINING\n",
    "    train_epoch_loss = 0\n",
    "    train_epoch_acc = 0\n",
    "\n",
    "    model.train()\n",
    "    for X_train_batch, y_train_batch in train_loader:\n",
    "        X_train_batch, y_train_batch = X_train_batch.to(device), y_train_batch.to(device)\n",
    "        optimizer.zero_grad()\n",
    "        \n",
    "        y_train_pred = model(X_train_batch)\n",
    "        \n",
    "        train_loss = criterion(y_train_pred, y_train_batch)\n",
    "        train_acc = multi_acc(y_train_pred, y_train_batch)\n",
    "        \n",
    "        train_loss.backward()\n",
    "        optimizer.step()\n",
    "        \n",
    "        train_epoch_loss += train_loss.item()\n",
    "        train_epoch_acc += train_acc.item()\n",
    "        \n",
    "        \n",
    "    # VALIDATION    \n",
    "    with torch.no_grad():\n",
    "        \n",
    "        val_epoch_loss = 0\n",
    "        val_epoch_acc = 0\n",
    "        \n",
    "        model.eval()\n",
    "        for X_val_batch, y_val_batch in val_loader:\n",
    "            X_val_batch, y_val_batch = X_val_batch.to(device), y_val_batch.to(device)\n",
    "            \n",
    "            y_val_pred = model(X_val_batch)\n",
    "                        \n",
    "            val_loss = criterion(y_val_pred, y_val_batch)\n",
    "            val_acc = multi_acc(y_val_pred, y_val_batch)\n",
    "            \n",
    "            val_epoch_loss += val_loss.item()\n",
    "            val_epoch_acc += val_acc.item()\n",
    "\n",
    "    \n",
    "        \n",
    "    loss_stats['train'].append(train_epoch_loss/len(train_loader))\n",
    "    loss_stats['val'].append(val_epoch_loss/len(val_loader))\n",
    "    accuracy_stats['train'].append(train_epoch_acc/len(train_loader))\n",
    "    accuracy_stats['val'].append(val_epoch_acc/len(val_loader))\n",
    "                              \n",
    "    \n",
    "    print(f'Epoch {e+0:03}: | Train Loss: {train_epoch_loss/len(train_loader):.5f} | Val Loss: {val_epoch_loss/len(val_loader):.5f} | Train Acc: {train_epoch_acc/len(train_loader):.3f}| Val Acc: {val_epoch_acc/len(val_loader):.3f}')\n",
    "        \n"
   ]
  },
  {
   "cell_type": "code",
   "execution_count": 103,
   "id": "64060208",
   "metadata": {},
   "outputs": [
    {
     "data": {
      "text/plain": [
       "Text(0.5, 1.0, 'Train-Val Loss/Epoch')"
      ]
     },
     "execution_count": 103,
     "metadata": {},
     "output_type": "execute_result"
    },
    {
     "data": {
      "image/png": "[encoded data removed]",
      "text/plain": [
       "<Figure size 2160x720 with 2 Axes>"
      ]
     },
     "metadata": {
      "needs_background": "light"
     },
     "output_type": "display_data"
    }
   ],
   "source": [
    "train_val_acc_df = pd.DataFrame.from_dict(accuracy_stats).reset_index().melt(id_vars=['index']).rename(columns={\"index\":\"epochs\"})\n",
    "train_val_loss_df = pd.DataFrame.from_dict(loss_stats).reset_index().melt(id_vars=['index']).rename(columns={\"index\":\"epochs\"})\n",
    "\n",
    "fig, axes = plt.subplots(nrows=1, ncols=2, figsize=(30,10))\n",
    "sns.lineplot(data=train_val_acc_df, x = \"epochs\", y=\"value\", hue=\"variable\",  ax=axes[0]).set_title('Train-Val Accuracy/Epoch')\n",
    "sns.lineplot(data=train_val_loss_df, x = \"epochs\", y=\"value\", hue=\"variable\", ax=axes[1]).set_title('Train-Val Loss/Epoch')"
   ]
  },
  {
   "cell_type": "code",
   "execution_count": 104,
   "id": "163372fd",
   "metadata": {},
   "outputs": [],
   "source": [
    "y_pred_list = []\n",
    "\n",
    "with torch.no_grad():\n",
    "    model.eval()\n",
    "    for X_batch, _ in test_loader:\n",
    "        X_batch = X_batch.to(device)\n",
    "        y_test_pred = model(X_batch)\n",
    "        y_pred_softmax = torch.log_softmax(y_test_pred, dim = 1)\n",
    "        _, y_pred_tags = torch.max(y_pred_softmax, dim = 1)\n",
    "        y_pred_list.append(y_pred_tags.cpu().numpy())"
   ]
  },
  {
   "cell_type": "code",
   "execution_count": 105,
   "id": "2198ee24",
   "metadata": {},
   "outputs": [],
   "source": [
    "y_pred_list = [a.squeeze().tolist() for a in y_pred_list]"
   ]
  },
  {
   "cell_type": "code",
   "execution_count": 106,
   "id": "bdf110f6",
   "metadata": {},
   "outputs": [
    {
     "data": {
      "text/plain": [
       "Text(0.5, 1.0, 'Confusion Matrix for MAV Features')"
      ]
     },
     "execution_count": 106,
     "metadata": {},
     "output_type": "execute_result"
    },
    {
     "data": {
      "image/png": "[encoded data removed]",
      "text/plain": [
       "<Figure size 432x288 with 2 Axes>"
      ]
     },
     "metadata": {
      "needs_background": "light"
     },
     "output_type": "display_data"
    }
   ],
   "source": [
    "confusion_matrix_df = pd.DataFrame(confusion_matrix(y_test, y_pred_list)).rename(columns=idx2class, index=idx2class)\n",
    "sns.heatmap(confusion_matrix_df, annot=True)\n",
    "plt.title('Confusion Matrix for MAV Features')"
   ]
  },
  {
   "cell_type": "code",
   "execution_count": 336,
   "id": "761e2e41",
   "metadata": {},
   "outputs": [
    {
     "name": "stdout",
     "output_type": "stream",
     "text": [
      "              precision    recall  f1-score   support\n",
      "\n",
      "           0       1.00      1.00      1.00       134\n",
      "           1       1.00      1.00      1.00       107\n",
      "           2       1.00      1.00      1.00       108\n",
      "           3       1.00      1.00      1.00       118\n",
      "           4       1.00      1.00      1.00       121\n",
      "\n",
      "    accuracy                           1.00       588\n",
      "   macro avg       1.00      1.00      1.00       588\n",
      "weighted avg       1.00      1.00      1.00       588\n",
      "\n"
     ]
    }
   ],
   "source": [
    "print(classification_report(y_test, y_pred_list))"
   ]
  },
  {
   "cell_type": "code",
   "execution_count": null,
   "id": "5e289b2d",
   "metadata": {},
   "outputs": [],
   "source": []
  },
  {
   "cell_type": "code",
   "execution_count": null,
   "id": "36e68759",
   "metadata": {},
   "outputs": [],
   "source": []
  }
 ],
 "metadata": {
  "kernelspec": {
   "display_name": "Python 3",
   "language": "python",
   "name": "python3"
  },
  "language_info": {
   "codemirror_mode": {
    "name": "ipython",
    "version": 3
   },
   "file_extension": ".py",
   "mimetype": "text/x-python",
   "name": "python",
   "nbconvert_exporter": "python",
   "pygments_lexer": "ipython3",
   "version": "3.9.2"
  }
 },
 "nbformat": 4,
 "nbformat_minor": 5
}

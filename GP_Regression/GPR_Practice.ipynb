{
 "cells": [
  {
   "attachments": {
    "image.png": {
     "image/png": "[encoded data removed]"
    }
   },
   "cell_type": "markdown",
   "id": "4fce1ab2",
   "metadata": {},
   "source": [
    "### Kernel Function Exercise\n",
    "![image.png](attachment:image.png)\n",
    "How to understand this kernel function: assume, s and t are two time points, the kernel function represnet the level of relation ebtween s and t, and this level is represented as an inverse relationship. "
   ]
  },
  {
   "cell_type": "code",
   "execution_count": 1,
   "id": "63861c8f",
   "metadata": {},
   "outputs": [],
   "source": [
    "import numpy as np"
   ]
  },
  {
   "cell_type": "code",
   "execution_count": 2,
   "id": "7921b9d5",
   "metadata": {},
   "outputs": [],
   "source": [
    "def gaussian_kernel(x1, x2, l = 1.0, sigma_f = 1.0):\n",
    "    m, n = x1.shape[0], x2.shape[0]\n",
    "    dist_matrix = np.zeros((m, n), dtype = float)\n",
    "    for i in range(m):\n",
    "        for j in range(n):\n",
    "            dist_matrix[i][j] = np.sum((x1[i] - x2[j]) ** 2)\n",
    "    return sigma_f ** 2 *np.exp(-0.5 / 1 ** 2 * dist_matrix)\n"
   ]
  },
  {
   "cell_type": "code",
   "execution_count": 3,
   "id": "1f821e1c",
   "metadata": {},
   "outputs": [
    {
     "name": "stdout",
     "output_type": "stream",
     "text": [
      "[[1.00000000e+00 1.35335283e-01 1.52299797e-08 1.26641655e-14]\n",
      " [1.35335283e-01 1.00000000e+00 3.35462628e-04 1.52299797e-08]\n",
      " [1.52299797e-08 3.35462628e-04 1.00000000e+00 1.35335283e-01]\n",
      " [1.26641655e-14 1.52299797e-08 1.35335283e-01 1.00000000e+00]]\n"
     ]
    }
   ],
   "source": [
    "# convert the array to a matrix with shape 4 * 1\n",
    "train_X = np.array([1, 3, 7, 9]).reshape(-1, 1)\n",
    "print(gaussian_kernel(train_X, train_X))\n"
   ]
  },
  {
   "cell_type": "markdown",
   "id": "b6270d59",
   "metadata": {},
   "source": [
    "### What is Gaussian Process Regression\n",
    "1. This process can be treated as a compositon of prior and observation value, then compute the posterior\n",
    "2. For Gaussian Distribution, a very useful property is the correlation probability, conditional probability, and marginal probability of N is still a N"
   ]
  },
  {
   "cell_type": "code",
   "execution_count": null,
   "id": "26043128",
   "metadata": {},
   "outputs": [],
   "source": []
  }
 ],
 "metadata": {
  "kernelspec": {
   "display_name": "Python 3",
   "language": "python",
   "name": "python3"
  },
  "language_info": {
   "codemirror_mode": {
    "name": "ipython",
    "version": 3
   },
   "file_extension": ".py",
   "mimetype": "text/x-python",
   "name": "python",
   "nbconvert_exporter": "python",
   "pygments_lexer": "ipython3",
   "version": "3.9.2"
  }
 },
 "nbformat": 4,
 "nbformat_minor": 5
}

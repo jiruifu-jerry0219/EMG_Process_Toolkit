{
 "cells": [
  {
   "cell_type": "code",
   "execution_count": 5,
   "id": "ba025871",
   "metadata": {},
   "outputs": [],
   "source": [
    "import numpy as np\n",
    "import pandas as pd\n",
    "import seaborn as sns\n",
    "import matplotlib.pyplot as ply\n",
    "import itertools\n",
    "from sklearn.gaussian_process import GaussianProcessRegressor\n",
    "from sklearn.gaussian_process.kernels import ConstantKernel, RBF\n",
    "from sklearn.model_selection import train_test_split"
   ]
  },
  {
   "cell_type": "code",
   "execution_count": 10,
   "id": "b947b174",
   "metadata": {},
   "outputs": [
    {
     "data": {
      "text/html": [
       "<div>\n",
       "<style scoped>\n",
       "    .dataframe tbody tr th:only-of-type {\n",
       "        vertical-align: middle;\n",
       "    }\n",
       "\n",
       "    .dataframe tbody tr th {\n",
       "        vertical-align: top;\n",
       "    }\n",
       "\n",
       "    .dataframe thead th {\n",
       "        text-align: right;\n",
       "    }\n",
       "</style>\n",
       "<table border=\"1\" class=\"dataframe\">\n",
       "  <thead>\n",
       "    <tr style=\"text-align: right;\">\n",
       "      <th></th>\n",
       "      <th>time</th>\n",
       "      <th>value</th>\n",
       "    </tr>\n",
       "  </thead>\n",
       "  <tbody>\n",
       "    <tr>\n",
       "      <th>0</th>\n",
       "      <td>0.000</td>\n",
       "      <td>1.195211</td>\n",
       "    </tr>\n",
       "    <tr>\n",
       "      <th>1</th>\n",
       "      <td>0.005</td>\n",
       "      <td>1.190142</td>\n",
       "    </tr>\n",
       "    <tr>\n",
       "      <th>2</th>\n",
       "      <td>0.010</td>\n",
       "      <td>1.185074</td>\n",
       "    </tr>\n",
       "    <tr>\n",
       "      <th>3</th>\n",
       "      <td>0.015</td>\n",
       "      <td>1.180009</td>\n",
       "    </tr>\n",
       "    <tr>\n",
       "      <th>4</th>\n",
       "      <td>0.020</td>\n",
       "      <td>1.174926</td>\n",
       "    </tr>\n",
       "  </tbody>\n",
       "</table>\n",
       "</div>"
      ],
      "text/plain": [
       "    time     value\n",
       "0  0.000  1.195211\n",
       "1  0.005  1.190142\n",
       "2  0.010  1.185074\n",
       "3  0.015  1.180009\n",
       "4  0.020  1.174926"
      ]
     },
     "execution_count": 10,
     "metadata": {},
     "output_type": "execute_result"
    }
   ],
   "source": [
    "df = pd.read_csv('data/joint_angle.csv', skiprows = 3)\n",
    "df.head()"
   ]
  },
  {
   "cell_type": "code",
   "execution_count": 19,
   "id": "8bbdfbc4",
   "metadata": {},
   "outputs": [],
   "source": [
    "# load the training data from csv file\n",
    "def angleloader(path):\n",
    "    df = pd.read_csv(path, skiprows = 3)\n",
    "    data = df.values(columns = df.columns[1:])\n",
    "    return data\n",
    "    \n",
    "    "
   ]
  },
  {
   "cell_type": "code",
   "execution_count": 20,
   "id": "2a89f219",
   "metadata": {},
   "outputs": [
    {
     "ename": "TypeError",
     "evalue": "'numpy.ndarray' object is not callable",
     "output_type": "error",
     "traceback": [
      "\u001b[1;31m---------------------------------------------------------------------------\u001b[0m",
      "\u001b[1;31mTypeError\u001b[0m                                 Traceback (most recent call last)",
      "\u001b[1;32m<ipython-input-20-ab0de31b4251>\u001b[0m in \u001b[0;36m<module>\u001b[1;34m\u001b[0m\n\u001b[1;32m----> 1\u001b[1;33m \u001b[0mjoint_angle\u001b[0m \u001b[1;33m=\u001b[0m \u001b[0mangleloader\u001b[0m\u001b[1;33m(\u001b[0m\u001b[1;34m'data/joint_angle.csv'\u001b[0m\u001b[1;33m)\u001b[0m\u001b[1;33m\u001b[0m\u001b[1;33m\u001b[0m\u001b[0m\n\u001b[0m",
      "\u001b[1;32m<ipython-input-19-e3560d68341b>\u001b[0m in \u001b[0;36mangleloader\u001b[1;34m(path)\u001b[0m\n\u001b[0;32m      2\u001b[0m \u001b[1;32mdef\u001b[0m \u001b[0mangleloader\u001b[0m\u001b[1;33m(\u001b[0m\u001b[0mpath\u001b[0m\u001b[1;33m)\u001b[0m\u001b[1;33m:\u001b[0m\u001b[1;33m\u001b[0m\u001b[1;33m\u001b[0m\u001b[0m\n\u001b[0;32m      3\u001b[0m     \u001b[0mdf\u001b[0m \u001b[1;33m=\u001b[0m \u001b[0mpd\u001b[0m\u001b[1;33m.\u001b[0m\u001b[0mread_csv\u001b[0m\u001b[1;33m(\u001b[0m\u001b[0mpath\u001b[0m\u001b[1;33m,\u001b[0m \u001b[0mskiprows\u001b[0m \u001b[1;33m=\u001b[0m \u001b[1;36m3\u001b[0m\u001b[1;33m)\u001b[0m\u001b[1;33m\u001b[0m\u001b[1;33m\u001b[0m\u001b[0m\n\u001b[1;32m----> 4\u001b[1;33m     \u001b[0mdata\u001b[0m \u001b[1;33m=\u001b[0m \u001b[0mdf\u001b[0m\u001b[1;33m.\u001b[0m\u001b[0mvalues\u001b[0m\u001b[1;33m(\u001b[0m\u001b[0mcolumns\u001b[0m \u001b[1;33m=\u001b[0m \u001b[0mdf\u001b[0m\u001b[1;33m.\u001b[0m\u001b[0mcolumns\u001b[0m\u001b[1;33m[\u001b[0m\u001b[1;36m1\u001b[0m\u001b[1;33m:\u001b[0m\u001b[1;33m]\u001b[0m\u001b[1;33m)\u001b[0m\u001b[1;33m\u001b[0m\u001b[1;33m\u001b[0m\u001b[0m\n\u001b[0m\u001b[0;32m      5\u001b[0m     \u001b[1;32mreturn\u001b[0m \u001b[0mdata\u001b[0m\u001b[1;33m\u001b[0m\u001b[1;33m\u001b[0m\u001b[0m\n\u001b[0;32m      6\u001b[0m \u001b[1;33m\u001b[0m\u001b[0m\n",
      "\u001b[1;31mTypeError\u001b[0m: 'numpy.ndarray' object is not callable"
     ]
    }
   ],
   "source": [
    "joint_angle = angleloader('data/joint_angle.csv')"
   ]
  },
  {
   "cell_type": "markdown",
   "id": "c1127949",
   "metadata": {},
   "source": [
    "### Part of Gaussian Process Regression"
   ]
  },
  {
   "cell_type": "code",
   "execution_count": null,
   "id": "1cb5518c",
   "metadata": {},
   "outputs": [],
   "source": [
    "from sklearn.gaussian_process import GaussianProcessRegressor\n",
    "# Define GaussianProcessRegressor object. \n",
    "gp = GaussianProcessRegressor(kernel=kernel, alpha=sigma_n**2, n_restarts_optimizer=10)\n",
    "\n",
    "X = x.reshape(n, d)\n",
    "X_star = x_star.reshape(n_star, d)\n",
    "# Fit to data using Maximum Likelihood Estimation of the parameters.\n",
    "gp.fit(X, y)\n",
    "\n",
    "# Make the prediction on test set.\n",
    "y_pred = gp.predict(X_star)\n",
    "\n",
    "fig, ax = plt.subplots()\n",
    "# Plot \"true\" linear fit.\n",
    "sns.lineplot(x=x, y=f_x, color='red', label='f(x)', ax=ax)\n",
    "# Plot prediction. \n",
    "sns.lineplot(x=x_star, y=y_pred, color='green', label='pred', ax=ax)\n",
    "ax.set(title=f'Prediction GaussianProcessRegressor, sigma_f = {sigma_f} and l = {l}')\n",
    "ax.legend(loc='upper right');\n",
    "\n",
    "# Set dimension. \n",
    "d = 1\n",
    "# Number of training points.\n",
    "n = 1000\n",
    "# Length of the training set. \n",
    "L = 2\n",
    "# Generate training features.\n",
    "x = np.linspace(start=0, stop=L, num=n)\n",
    "X = x.reshape(n, d)\n",
    "# Error standar deviation. \n",
    "sigma_n = 0.4\n",
    "# Errors.\n",
    "epsilon = np.random.normal(loc=0, scale=sigma_n, size=n)\n",
    "\n",
    "# Generate non-linear function.\n",
    "def f(x):\n",
    "    f = np.sin((4*np.pi)*x) + np.sin((7*np.pi)*x) + np.sin((3*np.pi)*x) \n",
    "    return(f)\n",
    "\n",
    "f_x = f(x)\n",
    "\n",
    "# Observed target variable. \n",
    "y = f_x + epsilon\n",
    "\n",
    "n_star = n + 300\n",
    "x_star = np.linspace(start=0, stop=(L + 0.5), num=n_star)\n",
    "\n",
    "X_star = x_star.reshape(n_star, d)\n",
    "\n",
    "\n",
    "# Define kernel parameters. \n",
    "l = 0.1\n",
    "sigma_f = 2\n",
    "\n",
    "# Define kernel object. \n",
    "kernel = ConstantKernel(constant_value=sigma_f, constant_value_bounds=(1e-2, 1e2)) \\\n",
    "            * RBF(length_scale=l, length_scale_bounds=(1e-2, 1e2))\n",
    "# Define GaussianProcessRegressor object. \n",
    "gp = GaussianProcessRegressor(kernel=kernel, alpha=sigma_n**2, n_restarts_optimizer=10, )\n",
    "\n",
    "\n",
    "# Fit to data using Maximum Likelihood Estimation of the parameters.\n",
    "gp.fit(X, y)\n",
    "# Make the prediction on test set.\n",
    "y_pred = gp.predict(X_star)\n",
    "# Generate samples from posterior distribution. \n",
    "y_hat_samples = gp.sample_y(X_star, n_samples=n_star)\n",
    "# Compute the mean of the sample. \n",
    "y_hat = np.apply_over_axes(func=np.mean, a=y_hat_samples, axes=1).squeeze()\n",
    "# Compute the standard deviation of the sample. \n",
    "y_hat_sd = np.apply_over_axes(func=np.std, a=y_hat_samples, axes=1).squeeze()"
   ]
  }
 ],
 "metadata": {
  "kernelspec": {
   "display_name": "Python 3",
   "language": "python",
   "name": "python3"
  },
  "language_info": {
   "codemirror_mode": {
    "name": "ipython",
    "version": 3
   },
   "file_extension": ".py",
   "mimetype": "text/x-python",
   "name": "python",
   "nbconvert_exporter": "python",
   "pygments_lexer": "ipython3",
   "version": "3.9.2"
  }
 },
 "nbformat": 4,
 "nbformat_minor": 5
}

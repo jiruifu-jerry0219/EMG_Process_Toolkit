{
 "cells": [
  {
   "cell_type": "code",
   "execution_count": null,
   "id": "a777f73c",
   "metadata": {},
   "outputs": [],
   "source": [
    "import panda as pd\n"
   ]
  },
  {
   "cell_type": "code",
   "execution_count": null,
   "id": "ca4aad1c",
   "metadata": {},
   "outputs": [],
   "source": [
    "def emg_loader(pth):\n",
    "    folder_path = pth\n",
    "    "
   ]
  }
 ],
 "metadata": {
  "kernelspec": {
   "display_name": "Python 3",
   "language": "python",
   "name": "python3"
  },
  "language_info": {
   "codemirror_mode": {
    "name": "ipython",
    "version": 3
   },
   "file_extension": ".py",
   "mimetype": "text/x-python",
   "name": "python",
   "nbconvert_exporter": "python",
   "pygments_lexer": "ipython3",
   "version": "3.8.5"
  }
 },
 "nbformat": 4,
 "nbformat_minor": 5
}
